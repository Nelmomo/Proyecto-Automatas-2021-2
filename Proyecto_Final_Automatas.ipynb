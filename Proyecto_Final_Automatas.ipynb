{
  "cells": [
    {
      "cell_type": "markdown",
      "metadata": {
        "id": "VYvf1IWKXqTu"
      },
      "source": [
        "---\n",
        "<center> <h1>Proyecto final automatas y lenguajes formales</h1> </center>\n",
        "<center> <h2>AFD para el cambio de efectivo</h2> </center>\n",
        "<center> <h3>Integrantes: </h3> </center>\n",
        "\n",
        "<center>\n",
        "\n",
        " <center> <h4>- Nelson Enrique Moreno Moreno</h4> </center>\n",
        " <center> <h4>2171975</h4> </center>\n",
        " \n",
        "\n",
        "</center>\n",
        "<br/><br/>\n",
        "<center> <h3>Presentado a: </h3> </center>\n",
        "\n",
        " <center> <h4>Prof. Luis Carlos Guayacán Chaparro</h4> </center>\n",
        "\n",
        "\n",
        "---"
      ]
    },
    {
      "cell_type": "markdown",
      "metadata": {
        "id": "1Y8el4RGXqT1"
      },
      "source": [
        "<div style=\"height:100px;\"></div>"
      ]
    },
    {
      "cell_type": "markdown",
      "metadata": {
        "id": "96jfHQlwXqT1"
      },
      "source": [
        "<h2><span style=\"color:#FFF; background-color:#F00; font-weight:bold; padding:4px;\"></span> Automata de pila para cambio de efectivo</h2>"
      ]
    },
    {
      "cell_type": "code",
      "source": [
        ""
      ],
      "metadata": {
        "id": "zl_ONlxGFZzs"
      },
      "execution_count": null,
      "outputs": []
    },
    {
      "cell_type": "markdown",
      "source": [
        "\n",
        "<center> <h4>Glosario</h4> </center>\n",
        "</p>\n",
        "1 ---> Recibe Billete 100000\n",
        "</p>\n",
        "2 ---> Recibe Billete 50000\n",
        "</p>\n",
        "3 ---> Recibe Billete 20000\n",
        "</p>\n",
        "b ---> Entrega Billete 50000\n",
        "</p>\n",
        "c ---> Entrega billete 20000\n",
        "</p>\n",
        "d ---> Entrega billete 10000\n",
        "</p>"
      ],
      "metadata": {
        "id": "IKS6IbwjFhP1"
      }
    },
    {
      "cell_type": "code",
      "execution_count": 1,
      "metadata": {
        "id": "zKHwt7--XqT2",
        "colab": {
          "base_uri": "https://localhost:8080/"
        },
        "outputId": "dd3beb2e-7e69-4ac6-c6cc-3f057a1d338a"
      },
      "outputs": [
        {
          "output_type": "stream",
          "name": "stdout",
          "text": [
            "Collecting automata-lib==1.0.0.post4\n",
            "  Downloading automata-lib-1.0.0.post4.tar.gz (11 kB)\n",
            "Building wheels for collected packages: automata-lib\n",
            "  Building wheel for automata-lib (setup.py) ... \u001b[?25l\u001b[?25hdone\n",
            "  Created wheel for automata-lib: filename=automata_lib-1.0.0.post4-py3-none-any.whl size=13312 sha256=3ac2f4b135b3814bf4a0eb65cf3f7feb77ed95ba54b0483d755ac867f4dc790a\n",
            "  Stored in directory: /root/.cache/pip/wheels/96/2f/27/40b605b129cb6410b34fd325d9e491ff88c1f3e8d8dfcedc64\n",
            "Successfully built automata-lib\n",
            "Installing collected packages: automata-lib\n",
            "Successfully installed automata-lib-1.0.0.post4\n"
          ]
        }
      ],
      "source": [
        "!pip install automata-lib==1.0.0.post4"
      ]
    },
    {
      "cell_type": "markdown",
      "metadata": {
        "id": "2yqJKUB-XqT4"
      },
      "source": [
        "<div style=\"height:100px;\"></div>"
      ]
    },
    {
      "cell_type": "code",
      "source": [
        "def ejercicio1():\n",
        "    from automata.pda.dpda import DPDA\n",
        "    d = DPDA(\n",
        "        states={'q0','q1','q2','q3','q4','q5','q6',\n",
        "                'q7','q8','q9','q10','q11','q12','q13','q14',\n",
        "                'q15','q16','q17','q18'}, \n",
        "        input_symbols={ '3','d','2','c','1','a','b'},\n",
        "        stack_symbols={'Z','C','B','A'},\n",
        "        transitions={\n",
        "            'q0': {\n",
        "            '3': {'Z': ('q3', ('C', 'Z'))},\n",
        "            '2': {'Z': ('q2', ('B', 'Z'))},\n",
        "            '1': {'Z': ('q1', ('A', 'Z'))}\n",
        "            },\n",
        "            'q1':{\n",
        "                'b':{'A':('q4',('A',))},\n",
        "                'c':{'A':('q11',('A',))},\n",
        "            },\n",
        "            'q4':{\n",
        "                'c':{'A':('q5',('A',))},\n",
        "                'd':{'A':('q15',('B',))},\n",
        "                'b':{'A':('q7','')}\n",
        "            },\n",
        "            'q5':{\n",
        "                'c':{'A':('q6',('A',))}\n",
        "            },\n",
        "            'q6':{\n",
        "                'd':{'A':('q7','')}\n",
        "            },\n",
        "            'q2':{\n",
        "                'c':{'B':('q8',('B',))},\n",
        "                'd':{'B':('q15',('B',))}\n",
        "            },\n",
        "             'q8':{\n",
        "                'c':{'B':('q9',('B',))}\n",
        "            },\n",
        "            'q9':{\n",
        "                'd':{'B':('q7','')}\n",
        "            },\n",
        "\n",
        "            'q3':{\n",
        "                'd':{'C':('q10',('C',))}},\n",
        "            \n",
        "            'q10':{\n",
        "                'd':{'C':('q7','')}},\n",
        "\n",
        "            'q11':{\n",
        "                'c':{'A':('q12',('A',))}},\n",
        "            'q12':{\n",
        "                'c':{'A':('q13',('A',))}},\n",
        "            'q13':{\n",
        "                'c':{'A':('q14',('A',))}},\n",
        "            'q14':{\n",
        "                'c':{'A':('q7','')}},\n",
        "            'q15':{\n",
        "                'd':{'B':('q16',('B',))}},\n",
        "            'q16':{\n",
        "                'd':{'B':('q17',('B',))}},\n",
        "            'q17':{\n",
        "                'd':{'B':('q18',('B',))}},\n",
        "            'q18':{\n",
        "                'd':{'B':('q7','')}},\n",
        "},\n",
        "        \n",
        "        initial_state='q0',\n",
        "        initial_stack_symbol='Z',\n",
        "        final_states={'q7'}\n",
        "    )\n",
        "    return d\n",
        "\n",
        "import urllib, urllib.parse, inspect "
      ],
      "metadata": {
        "id": "4YYVHXI0hRF4"
      },
      "execution_count": 2,
      "outputs": []
    },
    {
      "cell_type": "markdown",
      "metadata": {
        "id": "2AELYaTTXqT_"
      },
      "source": [
        "#### Verifique su respuesta:"
      ]
    },
    {
      "cell_type": "code",
      "execution_count": 10,
      "metadata": {
        "collapsed": true,
        "id": "zRqhEQ05XqT9",
        "colab": {
          "base_uri": "https://localhost:8080/"
        },
        "outputId": "7562fa5f-aeae-4ccc-c358-a05bae292214"
      },
      "outputs": [
        {
          "output_type": "stream",
          "name": "stdout",
          "text": [
            "MUY BIEN! Tu respuesta es correcta\n"
          ]
        }
      ],
      "source": [
        "###########################\n",
        "# NO MODIFIQUE ESTA CELDA #\n",
        "###########################\n",
        "\n",
        "def calificador1():\n",
        "    result = ejercicio1()\n",
        "    def checker(string,d):\n",
        "        try:\n",
        "            d.validate_input(string, step=False)\n",
        "            return True\n",
        "        except Exception as e:\n",
        "            print(\"testing...\")\n",
        "            return False\n",
        "    \n",
        "    valid_words = ['2ddddd']\n",
        "\n",
        "    invalid_words = []\n",
        "\n",
        "    for i in valid_words:\n",
        "        if checker(i,result) != True:\n",
        "            return False\n",
        "    for j in invalid_words:\n",
        "        if checker(j,result) != False:\n",
        "            return False\n",
        "    return True\n",
        "\n",
        "if calificador1() == True:\n",
        "  print(\"MUY BIEN! Tu respuesta es correcta\")\n",
        "else:\n",
        "  print(\"MAL! Vuelve a intentarlo\")"
      ]
    },
    {
      "cell_type": "markdown",
      "metadata": {
        "id": "mWtWO-zfXqT_"
      },
      "source": [
        "<div style=\"height:100px;\"></div>"
      ]
    },
    {
      "cell_type": "markdown",
      "metadata": {
        "collapsed": true,
        "id": "3y0PhIQqXqUP"
      },
      "source": [
        "<div style=\"height:100px;\"></div>"
      ]
    }
  ],
  "metadata": {
    "kernelspec": {
      "display_name": "Python 3",
      "language": "python",
      "name": "python3"
    },
    "language_info": {
      "codemirror_mode": {
        "name": "ipython",
        "version": 3
      },
      "file_extension": ".py",
      "mimetype": "text/x-python",
      "name": "python",
      "nbconvert_exporter": "python",
      "pygments_lexer": "ipython3",
      "version": "3.6.2"
    },
    "colab": {
      "name": "Proyecto Final Automatas.ipynb",
      "provenance": [],
      "collapsed_sections": []
    }
  },
  "nbformat": 4,
  "nbformat_minor": 0
}